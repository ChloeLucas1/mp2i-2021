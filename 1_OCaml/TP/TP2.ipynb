{
 "cells": [
  {
   "cell_type": "markdown",
   "id": "68f1c7f0",
   "metadata": {},
   "source": [
    "# TP 2 : récursivité et conditions\n",
    "\n",
    "Dans tout le TP, il est interdit d'utiliser des boucles (pas de `for` ni `while`)."
   ]
  },
  {
   "cell_type": "markdown",
   "id": "320c92e6",
   "metadata": {
    "tags": []
   },
   "source": [
    "## Petites questions\n",
    "\n",
    "1. Définir une fonction `divise` telle que `divise a b` renvoie `true` si  `a` divise `b`, `false` sinon. Il est interdit d'utiliser `if`.\n",
    "1. Définir une fonction récursive `somme` telle que `somme n` renvoie $\\sum_{k=1}^n k^2$.\n",
    "2. Définir une fonction récursive `u` telle que `u n` renvoie $u_n$ définie par :\n",
    "$$u_0 = 42$$\n",
    "$$u_{n} = 3\\sqrt{u_{n - 1}} + 2}$$\n",
    "3. Soient $a$ et $b$ deux entiers et $q, r$ le quotient et reste de la division euclidienne de $a$ par $b$ ($a = bq + r$). En utilisant le fait que $PGCD(a, b)$ = $PGCD(b, r)$, écrire une fonction `euclide` telle que `euclide a b` renvoie le PGCD de $a$ et $b$."
   ]
  },
  {
   "cell_type": "code",
   "execution_count": 2,
   "id": "57d5fb6e-c303-47d8-b0e7-352b57588c2a",
   "metadata": {},
   "outputs": [
    {
     "data": {
      "text/plain": [
       "val divise : int -> int -> bool = <fun>\n"
      ]
     },
     "execution_count": 2,
     "metadata": {},
     "output_type": "execute_result"
    }
   ],
   "source": [
    "let divise a b = (b mod a = 0)"
   ]
  },
  {
   "cell_type": "code",
   "execution_count": 5,
   "id": "89b1d3be-44eb-4b6d-ad94-bae82e1aa560",
   "metadata": {},
   "outputs": [
    {
     "data": {
      "text/plain": [
       "- : bool = false\n"
      ]
     },
     "execution_count": 5,
     "metadata": {},
     "output_type": "execute_result"
    }
   ],
   "source": [
    "divise 6 2"
   ]
  },
  {
   "cell_type": "code",
   "execution_count": 7,
   "id": "f3996845-8e26-4b86-b0b8-15273882505e",
   "metadata": {},
   "outputs": [
    {
     "data": {
      "text/plain": [
       "val somme : int -> int = <fun>\n"
      ]
     },
     "execution_count": 7,
     "metadata": {},
     "output_type": "execute_result"
    }
   ],
   "source": [
    "let rec somme n =\n",
    "    if n = 1 then 1\n",
    "    else somme (n-1) + n*n"
   ]
  },
  {
   "cell_type": "code",
   "execution_count": 9,
   "id": "d31a7286-241c-4d1d-a7ba-d0722ffcb6ad",
   "metadata": {},
   "outputs": [
    {
     "data": {
      "text/plain": [
       "- : int = 30\n"
      ]
     },
     "execution_count": 9,
     "metadata": {},
     "output_type": "execute_result"
    }
   ],
   "source": [
    "somme 4"
   ]
  },
  {
   "cell_type": "code",
   "execution_count": 10,
   "id": "13cc0518-0d35-4db5-9d92-bc4087944384",
   "metadata": {},
   "outputs": [
    {
     "data": {
      "text/plain": [
       "val u : float -> float = <fun>\n"
      ]
     },
     "execution_count": 10,
     "metadata": {},
     "output_type": "execute_result"
    }
   ],
   "source": [
    "let rec u n = \n",
    "    if n = 0. then 42.\n",
    "    else 3. *. (u (n-.1.)) ** 0.5 +. 2."
   ]
  },
  {
   "cell_type": "code",
   "execution_count": 12,
   "id": "ace80dd4-35ac-4eed-89f9-172f3f858007",
   "metadata": {},
   "outputs": [
    {
     "data": {
      "text/plain": [
       "- : float = 13.9593276159321622\n"
      ]
     },
     "execution_count": 12,
     "metadata": {},
     "output_type": "execute_result"
    }
   ],
   "source": [
    "u 3."
   ]
  },
  {
   "cell_type": "code",
   "execution_count": 13,
   "id": "9ed45689-4562-4710-894a-3ff7ddaca3a2",
   "metadata": {},
   "outputs": [
    {
     "data": {
      "text/plain": [
       "val euclide : int -> int -> int = <fun>\n"
      ]
     },
     "execution_count": 13,
     "metadata": {},
     "output_type": "execute_result"
    }
   ],
   "source": [
    "let rec euclide a b = \n",
    "    if (a mod b = 0) then b\n",
    "    else euclide b (a mod b)"
   ]
  },
  {
   "cell_type": "code",
   "execution_count": 16,
   "id": "8ee746ef-6ae4-46ed-9ebe-c912963db27e",
   "metadata": {},
   "outputs": [
    {
     "data": {
      "text/plain": [
       "- : int = 6\n"
      ]
     },
     "execution_count": 16,
     "metadata": {},
     "output_type": "execute_result"
    }
   ],
   "source": [
    "euclide 12 18"
   ]
  },
  {
   "cell_type": "markdown",
   "id": "8bc4824c",
   "metadata": {},
   "source": [
    "## Exponentiation rapide\n",
    "\n",
    "1. Écrire une fonction récursive `puissance` naïve (c'est à dire très simple) telle que `puissance a n` renvoie $a^n$. Combien effectue t-elle de multiplications (en fonction de n) ?\n",
    "2. Écrire une fonction récursive `exp_rapide` pour calculer $a^n$, en utilisant les relations suivantes :\n",
    "$$ \n",
    "\\begin{cases} \n",
    "a^n = (a^{\\frac{n}{2}})^2 ~~~~~~~~~\\text{si }n\\text{ est pair}\\\\\n",
    "a^{n} = a \\times (a^{\\frac{n-1}{2}})^2 ~~~~~\\text{sinon}\n",
    "\\end{cases}\n",
    "$$\n",
    "**Remarque** : On montrera plus tard que cette 2ème version demande environ $\\ln(n)$ multiplications seulement."
   ]
  },
  {
   "cell_type": "code",
   "execution_count": 18,
   "id": "5e18ee02-973b-40b5-965a-29366920b943",
   "metadata": {},
   "outputs": [
    {
     "data": {
      "text/plain": [
       "val puissance : int -> int -> int = <fun>\n"
      ]
     },
     "execution_count": 18,
     "metadata": {},
     "output_type": "execute_result"
    }
   ],
   "source": [
    "let rec puissance a n = \n",
    "    if n = 0 then 1\n",
    "    else (puissance a (n-1)) * a"
   ]
  },
  {
   "cell_type": "code",
   "execution_count": 45,
   "id": "d4a3fbf8-af91-4d5e-8d3e-20708cf9f3c6",
   "metadata": {},
   "outputs": [
    {
     "data": {
      "text/plain": [
       "- : int = 2305843009213693952\n"
      ]
     },
     "execution_count": 45,
     "metadata": {},
     "output_type": "execute_result"
    }
   ],
   "source": [
    "puissance 2 61"
   ]
  },
  {
   "cell_type": "code",
   "execution_count": 48,
   "id": "518ec4e2-7e4a-4249-aa70-f979742fe7f2",
   "metadata": {},
   "outputs": [
    {
     "data": {
      "text/plain": [
       "val exp_rapide : int -> int -> int = <fun>\n"
      ]
     },
     "execution_count": 48,
     "metadata": {},
     "output_type": "execute_result"
    }
   ],
   "source": [
    "let rec exp_rapide a n =\n",
    "    if n = 0 then 1\n",
    "    else if (n mod 2 = 0) then (puissance a (n/2)) * (puissance a (n/2))\n",
    "    else a * (puissance a ((n-1)/2)) * (puissance a ((n-1)/2))"
   ]
  },
  {
   "cell_type": "code",
   "execution_count": 49,
   "id": "eacd7f68-0e77-4be7-9cf5-8e60da84b789",
   "metadata": {},
   "outputs": [
    {
     "data": {
      "text/plain": [
       "- : int = 2305843009213693952\n"
      ]
     },
     "execution_count": 49,
     "metadata": {},
     "output_type": "execute_result"
    }
   ],
   "source": [
    "exp_rapide 2 61"
   ]
  },
  {
   "cell_type": "markdown",
   "id": "593103dc",
   "metadata": {},
   "source": [
    "## Temps de vol de la suite de Syracuse\n",
    "\n",
    "La suite de Syracuse d'un entier $a$ est définie par :  \n",
    "$$u_0 = a$$\n",
    "$$u_{n+1} =\n",
    "\\begin{cases} \n",
    "     \\frac{u_n}{2}, \\text{si } n \\text{ est pair}\\\\\n",
    "    3u_n + 1, \\text{sinon}\\\\\n",
    "\\end{cases}$$\n",
    "\n",
    "Le temps de vol de $(u_n)_n$ est le plus petit entier $t$ tel que $u_t = 1$.  \n",
    "\n",
    "1. Écrire une fonction récursive `temps_vol` telle que `temps_vol a` renvoie le temps de vol de $(u_n)_n$ (où $u_0 = a$)."
   ]
  },
  {
   "cell_type": "code",
   "execution_count": 16,
   "id": "6caf3766-a076-44c8-8f4f-7a2949bae988",
   "metadata": {},
   "outputs": [
    {
     "data": {
      "text/plain": [
       "- : int = 16\n"
      ]
     },
     "execution_count": 16,
     "metadata": {},
     "output_type": "execute_result"
    }
   ],
   "source": [
    "let rec temps_voln a n =\n",
    "    if a = 1 then n\n",
    "    else if a mod 2 = 0 then temps_voln (a / 2) (n+1)\n",
    "    else temps_voln (3 * a + 1) (n+1) in\n",
    "let temps_vol a = temps_voln a 0 in\n",
    "temps_vol 7"
   ]
  },
  {
   "cell_type": "markdown",
   "id": "6a5f751f",
   "metadata": {},
   "source": [
    "## Fonction mystérieuse\n",
    "\n",
    "Tester la fonction suivante, conjecturer un théorème et prouvez-le par récurrence."
   ]
  },
  {
   "cell_type": "code",
   "execution_count": 21,
   "id": "5ada3acf",
   "metadata": {
    "tags": []
   },
   "outputs": [
    {
     "data": {
      "text/plain": [
       "- : int = 92\n"
      ]
     },
     "execution_count": 21,
     "metadata": {},
     "output_type": "execute_result"
    },
    {
     "ename": "interrupt",
     "evalue": "intterupt",
     "output_type": "error",
     "traceback": [
      "\u001b[31mException: Sys.Break.\u001b[0m"
     ]
    }
   ],
   "source": [
    "let rec f n =\n",
    "    if n > 100 then n - 10 \n",
    "    else f (f (n + 11)) in\n",
    "f 102"
   ]
  },
  {
   "cell_type": "markdown",
   "id": "ea6287e5-960a-4144-8f7a-df0138a6f37b",
   "metadata": {},
   "source": [
    "conjecture : pour tout n <= 101, f(n) = 91  \n",
    "soit pour tout n <= 101 P(n) : f(n) = 91  \n",
    "Init : n = 101  \n",
    "f(101) = 91  \n",
    "donc P(101) est vraie  \n",
    "Hérédité : Soit n <= 101  \n",
    "On suppose que pour tout k appartenant à $[n,101]$, P(k) est vraie  \n",
    "Montrons que P(n-1) est vraie  \n",
    "f(n-1) =  \n",
    "- n - 11 si n-1 > 100  \n",
    "- f(f(n + 10)) sinon  \n",
    "Or pour tout n <= 101, n-1 <= 100  \n",
    "Donc f(n-1) = f(f(n+10))"
   ]
  }
 ],
 "metadata": {
  "kernelspec": {
   "display_name": "OCaml default",
   "language": "OCaml",
   "name": "ocaml-jupyter"
  },
  "language_info": {
   "codemirror_mode": "text/x-ocaml",
   "file_extension": ".ml",
   "mimetype": "text/x-ocaml",
   "name": "OCaml",
   "nbconverter_exporter": null,
   "pygments_lexer": "OCaml",
   "version": "4.08.1"
  }
 },
 "nbformat": 4,
 "nbformat_minor": 5
}
