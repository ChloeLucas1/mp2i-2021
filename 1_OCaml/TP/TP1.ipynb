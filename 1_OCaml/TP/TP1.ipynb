{
 "cells": [
  {
   "cell_type": "markdown",
   "id": "4ef1c104",
   "metadata": {},
   "source": [
    "# TP1 : Types, variables, fonctions"
   ]
  },
  {
   "cell_type": "markdown",
   "id": "becd8118",
   "metadata": {},
   "source": [
    "## Types\n",
    "\n",
    "Devinez le type des fonctions suivantes et vérifier avec OCaml :\n",
    "```ocaml\n",
    "let f x y = x**y (* float -> float -> float *)\n",
    "```\n",
    "```ocaml\n",
    "let g x y = x (y + 1) (* (int -> 'a) -> int -> 'a *)\n",
    "```\n",
    "```ocaml\n",
    "let h x y z = x (3. *. (y z)) + 1 (* (float -> int) -> ('a -> float) -> 'a -> int *)\n",
    "```\n",
    "Puis tester ces fonctions sur des arguments de votre choix."
   ]
  },
  {
   "cell_type": "code",
   "execution_count": 11,
   "id": "989f1dff-16fd-4e4d-bb7d-a99bfaa822a3",
   "metadata": {},
   "outputs": [
    {
     "data": {
      "text/plain": [
       "- : float = 8.\n"
      ]
     },
     "execution_count": 11,
     "metadata": {},
     "output_type": "execute_result"
    },
    {
     "data": {
      "text/plain": [
       "- : int = 6\n"
      ]
     },
     "execution_count": 11,
     "metadata": {},
     "output_type": "execute_result"
    },
    {
     "data": {
      "text/plain": [
       "- : int = 226\n"
      ]
     },
     "execution_count": 11,
     "metadata": {},
     "output_type": "execute_result"
    }
   ],
   "source": [
    "let f x y = x**y in\n",
    "f 2. 3.;;\n",
    "let g x y = x (y + 1) in\n",
    "g (fun x -> 2 * x) 2;;\n",
    "let h x y z = x (3. *. (y z)) + 1 in\n",
    "h (fun x -> int_of_float (x**2.)) (fun x -> x +. 2.) 3.;;"
   ]
  },
  {
   "cell_type": "markdown",
   "id": "23e9b523",
   "metadata": {},
   "source": [
    "## Tangente hyperbolique\n",
    "\n",
    "Définir en OCaml la fonction $\\tanh : x \\longmapsto \\frac{e^x - e^{-x}}{e^x + e^{-x}}$ en utilisant un seul appel à la fonction `exp : float -> float` de OCaml."
   ]
  },
  {
   "cell_type": "code",
   "execution_count": 19,
   "id": "6db17f7d-1d88-4ddf-b0cd-1c9a6d20d8fa",
   "metadata": {},
   "outputs": [
    {
     "data": {
      "text/plain": [
       "val tanh2 : float -> float = <fun>\n"
      ]
     },
     "execution_count": 19,
     "metadata": {},
     "output_type": "execute_result"
    }
   ],
   "source": [
    "let tanh2 x = \n",
    "    let tanh3 f x = (f x -. f (-.x)) /. (f x +. f (-.x)) in\n",
    "    tanh3 exp x"
   ]
  },
  {
   "cell_type": "code",
   "execution_count": 30,
   "id": "458cc856-1b9b-4cc5-9305-912165db1d98",
   "metadata": {},
   "outputs": [
    {
     "data": {
      "text/plain": [
       "- : float = 0.\n"
      ]
     },
     "execution_count": 30,
     "metadata": {},
     "output_type": "execute_result"
    }
   ],
   "source": [
    "tanh2 0."
   ]
  },
  {
   "cell_type": "code",
   "execution_count": 31,
   "id": "51cb7841-36b0-479a-a15e-5c799033f29b",
   "metadata": {},
   "outputs": [
    {
     "data": {
      "text/plain": [
       "val tanh4 : float -> float = <fun>\n"
      ]
     },
     "execution_count": 31,
     "metadata": {},
     "output_type": "execute_result"
    },
    {
     "ename": "interrupt",
     "evalue": "intterupt",
     "output_type": "error",
     "traceback": [
      "\u001b[31mException: Sys.Break.\u001b[0m"
     ]
    },
    {
     "ename": "interrupt",
     "evalue": "intterupt",
     "output_type": "error",
     "traceback": [
      "\u001b[31mException: Sys.Break.\u001b[0m"
     ]
    }
   ],
   "source": [
    "let tanh4 x =\n",
    "    let e = exp x in\n",
    "    (e -. 1./.e)/.(e +. 1./.e)"
   ]
  },
  {
   "cell_type": "markdown",
   "id": "74da135f",
   "metadata": {},
   "source": [
    "## Géométrie\n",
    "\n",
    "Le type `float*float` désigne un couple de flottant, représentant un point `p` dans $\\mathbb{R}^2$. On peut récupérer les coordonnées de `p` avec `let x, y = p` . Par exemple :"
   ]
  },
  {
   "cell_type": "code",
   "execution_count": 1,
   "id": "7073f5d1",
   "metadata": {
    "execution": {
     "iopub.execute_input": "2021-09-09T19:25:52.406644Z",
     "iopub.status.busy": "2021-09-09T19:25:52.405787Z",
     "iopub.status.idle": "2021-09-09T19:25:52.409142Z",
     "shell.execute_reply": "2021-09-09T19:25:52.408391Z"
    }
   },
   "outputs": [
    {
     "data": {
      "text/plain": [
       "- : float = 2.1\n"
      ]
     },
     "execution_count": 1,
     "metadata": {},
     "output_type": "execute_result"
    }
   ],
   "source": [
    "let p = (2.1, 3.7) in (* exemple de point *)\n",
    "let x, y = p in (* récupération des coordonnées *)\n",
    "x;; (* affichage de x *)"
   ]
  },
  {
   "cell_type": "markdown",
   "id": "898ce016",
   "metadata": {},
   "source": [
    "**Exercice** Écrire une fonction `aire_boule : float -> float` telle que `aire_boule r` renvoie l'aire d'une boule (disque en dimension 3) de rayon `r`, c'est à dire $\\frac{4 \\pi r^3}{3}$. On pourra utiliser `Float.pi`."
   ]
  },
  {
   "cell_type": "code",
   "execution_count": 15,
   "id": "40171ca6-83bf-4092-a0f8-043f8464fa9e",
   "metadata": {},
   "outputs": [
    {
     "data": {
      "text/plain": [
       "val aire_boule : float -> float = <fun>\n"
      ]
     },
     "execution_count": 15,
     "metadata": {},
     "output_type": "execute_result"
    }
   ],
   "source": [
    "let aire_boule r = 4. *. Float.pi *. (r ** 3.) /. 3."
   ]
  },
  {
   "cell_type": "markdown",
   "id": "18817317",
   "metadata": {},
   "source": [
    "**Exercice** Écrire une fonction `distance : float*float -> float*float -> float` telle que `distance p1 p2` renvoie la distance euclidienne entre les points `p1` et `p2`.  \n",
    "Vérifier que la distance entre $(0, 0)$ et $(1, 1)$ est (approximativement) $\\sqrt{2}$."
   ]
  },
  {
   "cell_type": "code",
   "execution_count": 16,
   "id": "a011130f-9ef6-4b35-aa6b-0727a4296aee",
   "metadata": {},
   "outputs": [
    {
     "data": {
      "text/plain": [
       "val distance : float * float -> float * float -> float = <fun>\n"
      ]
     },
     "execution_count": 16,
     "metadata": {},
     "output_type": "execute_result"
    }
   ],
   "source": [
    "let distance p1 p2 = \n",
    "    let x1, y1 = p1 in\n",
    "    let x2, y2 = p2 in\n",
    "    ((x1 -. x2)**2. +. (y1 -. y2)**2.) ** 0.5"
   ]
  },
  {
   "cell_type": "code",
   "execution_count": 17,
   "id": "7e5e4bc8-cec9-4f3f-bf56-622eec5a08a4",
   "metadata": {},
   "outputs": [
    {
     "data": {
      "text/plain": [
       "- : float = 1.41421356237309515\n"
      ]
     },
     "execution_count": 17,
     "metadata": {},
     "output_type": "execute_result"
    }
   ],
   "source": [
    "distance (0., 0.) (1., 1.)"
   ]
  },
  {
   "cell_type": "markdown",
   "id": "6be0092c",
   "metadata": {},
   "source": [
    "**Exercice** Écrire une fonction `polaire : float*float -> float*float` qui, étant donné les coordonnées polaires $(r, \\theta)$ d'un point, renvoie ses coordonnées cartésiennes $(x, y)$. On rappelle que $x = r\\cos(\\theta)$ et $y = r\\sin(\\theta)$. On pourra utiliser `cos` et `sin` en OCaml."
   ]
  },
  {
   "cell_type": "code",
   "execution_count": 18,
   "id": "2101048a-1c63-42ca-abc0-763c509e723e",
   "metadata": {},
   "outputs": [
    {
     "data": {
      "text/plain": [
       "val polaire : float * float -> float * float = <fun>\n"
      ]
     },
     "execution_count": 18,
     "metadata": {},
     "output_type": "execute_result"
    }
   ],
   "source": [
    "let polaire co_polaires =\n",
    "    let r, theta = co_polaires in\n",
    "    (r *. cos theta, r *. sin theta)"
   ]
  },
  {
   "cell_type": "markdown",
   "id": "2992c0fe",
   "metadata": {},
   "source": [
    "**Exercice** Écrire une fonction `milieu : float*float -> float*float -> float*float` telle que `milieu p1 p2` renvoie le milieu du segment d'extrémités `p1` et `p2`."
   ]
  },
  {
   "cell_type": "code",
   "execution_count": 20,
   "id": "1687b331-1dea-467f-93a0-7073545c8c35",
   "metadata": {},
   "outputs": [
    {
     "data": {
      "text/plain": [
       "val milieu : float * float -> float * float -> float * float = <fun>\n"
      ]
     },
     "execution_count": 20,
     "metadata": {},
     "output_type": "execute_result"
    }
   ],
   "source": [
    "let milieu p1 p2 = \n",
    "    let x1, y1 = p1 in\n",
    "    let x2, y2 = p2 in\n",
    "    ((x1 +. x2) /. 2., (y1 +. y2) /. 2.)"
   ]
  },
  {
   "cell_type": "markdown",
   "id": "b0d67dd4",
   "metadata": {},
   "source": [
    "**Exercice** Écrire une fonction `parallelogramme : float*float -> float*float -> float*float -> float*float -> bool` telle que `parallelogramme p1 p2 p3 p4` renvoie `true` si les points `p1`, `p1`, `p1`, `p1` forment un parallélogramme, c'est à dire si les côtés opposés sont (approximativement) de même longueur.  \n",
    "On fera attention à ne pas comparer 2 flottants avec `=`, mais regarder à la place si la différence est petite (< 0.001 par exemple)."
   ]
  },
  {
   "cell_type": "code",
   "execution_count": 25,
   "id": "46a4e515",
   "metadata": {
    "tags": []
   },
   "outputs": [
    {
     "data": {
      "text/plain": [
       "val parallelogramme :\n",
       "  float * float -> float * float -> float * float -> float * float -> bool =\n",
       "  <fun>\n"
      ]
     },
     "execution_count": 25,
     "metadata": {},
     "output_type": "execute_result"
    }
   ],
   "source": [
    "let parallelogramme p1 p2 p3 p4 = \n",
    "    (abs_float (distance p1 p2 -. distance p3 p4) < 0.001 && abs_float (distance p3 p2 -. distance p1 p4) < 0.001)"
   ]
  },
  {
   "cell_type": "code",
   "execution_count": 28,
   "id": "492db2b2-950a-4db1-a75d-e47f8cd515fe",
   "metadata": {},
   "outputs": [
    {
     "data": {
      "text/plain": [
       "- : bool = true\n"
      ]
     },
     "execution_count": 28,
     "metadata": {},
     "output_type": "execute_result"
    }
   ],
   "source": [
    "parallelogramme (0., 0.) (2., 1.) (2., 5.) (0., 4.)"
   ]
  },
  {
   "cell_type": "markdown",
   "id": "8a89d768",
   "metadata": {},
   "source": [
    "## Congruence\n",
    "\n",
    "Le but de cet exercice est de calculer $1357^{2013}$ mod $5$ (mais la méthode utilisée s'applique dans un grande nombre d'exercices mathématiques).  \n",
    "On rappelle que les congruences sont compatibles avec la puissance :\n",
    "$$a \\equiv b [n] \\Longrightarrow a^k \\equiv b^k [n]$$\n",
    "\n",
    "1. Soit $k$ un entier positif. Que vaut $2^{4k}$ mod $5$? On pourra calculer des valeurs avec OCaml puis le démontrer mathématiquement.\n",
    "$$2^{4} \\equiv 1 [5]$$\n",
    "$$\\Longrightarrow 2^{4k} \\equiv 1^{k} [5]$$\n",
    "$$\\Longrightarrow 2^{4k} \\equiv 1 [5]$$\n",
    "2. Que vaut $1357$ mod $5$? En déduire la valeur de $1357^{2013}$ mod $5$."
   ]
  },
  {
   "cell_type": "code",
   "execution_count": 1,
   "id": "b32d347d-a2d0-45fd-9e7e-400abf2c577e",
   "metadata": {},
   "outputs": [
    {
     "data": {
      "text/plain": [
       "- : int = 2\n"
      ]
     },
     "execution_count": 1,
     "metadata": {},
     "output_type": "execute_result"
    }
   ],
   "source": [
    "1357 mod 5"
   ]
  },
  {
   "cell_type": "markdown",
   "id": "4f1f44dd-bb24-4b3a-b34b-1525671d0d4e",
   "metadata": {},
   "source": [
    "$$1357 \\equiv 2 [5] \\Longrightarrow 1357^{2013} \\equiv 2^{2013} [5]$$\n",
    "$$\\Longrightarrow 1357^{2013} \\equiv 2 \\times 2^{4 \\times 503} [5]$$\n",
    "$$\\Longrightarrow 1357^{2013} \\equiv 2 \\times 1 [5]$$\n",
    "$$\\Longrightarrow 1357^{2013} \\equiv 2 [5]$$"
   ]
  },
  {
   "cell_type": "markdown",
   "id": "60c42e47",
   "metadata": {
    "tags": []
   },
   "source": [
    "## Nombres aléatoires\n",
    "\n",
    "`Random.int n` permet d'obtenir un entier uniformément au hasard entre 0 et `n - 1` (chacun de ces entiers a la même probabilité $\\frac{1}{n}$ d'être obtenu).  \n",
    "Dans cet exercice, on imagine que l'on possède comme seule source aléatoire un dé à 5 faces (c'est à dire que l'on a seulement le droit d'utiliser `Random.int 5`).\n",
    "\n",
    "1. Calculer `(Random.int 5) + (Random.int 5)` plusieurs fois. Est-ce que le résultat vous semble être un entier uniformément au hasard entre 0 et 8  \n",
    "non, il y a plus de chances d'obtenir un 4 qu'un 0 ou un 8 \n",
    "2. Quelle est la probabilité d'obtenir `0` avec `(Random.int 5) + (Random.int 5)`? $\\frac{1}{25}$ D'obtenir `1`? $\\frac{2}{25}$ Quelle est l'entier qui a le plus de chances d'apparaître? 4\n",
    "3. Comment générer uniformément un entier entre 0 et 24? (C'est à dire passer de 5 possibilités à 25)  \n",
    "- lancer deux dés et mettre les deux valeurs dans un tuple  \n",
    "- associer \n",
    "3. Comment générer uniformément un entier entre 0 et 6? Écrire une fonction pour le faire. On utilisera une méthode par rejection (rejection sampling) : générer dans un espace plus grand et regénérer si la valeur n'est pas dans l'intervalle souhaité.  \n",
    "Pour cela on utilisera une boucle while :\n",
    "```ocaml\n",
    "while ... do\n",
    "    ...\n",
    "done\n",
    "```"
   ]
  },
  {
   "cell_type": "code",
   "execution_count": 13,
   "id": "c06e7074",
   "metadata": {},
   "outputs": [
    {
     "data": {
      "text/plain": [
       "- : int = 7\n"
      ]
     },
     "execution_count": 13,
     "metadata": {},
     "output_type": "execute_result"
    }
   ],
   "source": [
    "(Random.int 5) + (Random.int 5)"
   ]
  }
 ],
 "metadata": {
  "kernelspec": {
   "display_name": "OCaml default",
   "language": "OCaml",
   "name": "ocaml-jupyter"
  },
  "language_info": {
   "codemirror_mode": "text/x-ocaml",
   "file_extension": ".ml",
   "mimetype": "text/x-ocaml",
   "name": "OCaml",
   "nbconverter_exporter": null,
   "pygments_lexer": "OCaml",
   "version": "4.08.1"
  }
 },
 "nbformat": 4,
 "nbformat_minor": 5
}
